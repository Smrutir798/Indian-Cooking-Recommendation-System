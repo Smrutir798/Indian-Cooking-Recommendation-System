{
 "cells": [
  {
   "cell_type": "code",
   "execution_count": 25,
   "metadata": {},
   "outputs": [],
   "source": [
    "import pandas as pd\n",
    "import numpy as np\n",
    "import matplotlib.pyplot as plt\n",
    "import seaborn as sns\n",
    "import warnings\n",
    "warnings.filterwarnings('ignore')"
   ]
  },
  {
   "cell_type": "code",
   "execution_count": 26,
   "metadata": {},
   "outputs": [],
   "source": [
    "df = pd.read_csv('IndianFoodDatasetCSV.csv')"
   ]
  },
  {
   "cell_type": "code",
   "execution_count": 27,
   "metadata": {},
   "outputs": [
    {
     "data": {
      "text/html": [
       "<div>\n",
       "<style scoped>\n",
       "    .dataframe tbody tr th:only-of-type {\n",
       "        vertical-align: middle;\n",
       "    }\n",
       "\n",
       "    .dataframe tbody tr th {\n",
       "        vertical-align: top;\n",
       "    }\n",
       "\n",
       "    .dataframe thead th {\n",
       "        text-align: right;\n",
       "    }\n",
       "</style>\n",
       "<table border=\"1\" class=\"dataframe\">\n",
       "  <thead>\n",
       "    <tr style=\"text-align: right;\">\n",
       "      <th></th>\n",
       "      <th>Srno</th>\n",
       "      <th>RecipeName</th>\n",
       "      <th>TranslatedRecipeName</th>\n",
       "      <th>Ingredients</th>\n",
       "      <th>TranslatedIngredients</th>\n",
       "      <th>PrepTimeInMins</th>\n",
       "      <th>CookTimeInMins</th>\n",
       "      <th>TotalTimeInMins</th>\n",
       "      <th>Servings</th>\n",
       "      <th>Cuisine</th>\n",
       "      <th>Course</th>\n",
       "      <th>Diet</th>\n",
       "      <th>Instructions</th>\n",
       "      <th>TranslatedInstructions</th>\n",
       "      <th>URL</th>\n",
       "    </tr>\n",
       "  </thead>\n",
       "  <tbody>\n",
       "    <tr>\n",
       "      <th>0</th>\n",
       "      <td>1</td>\n",
       "      <td>Masala Karela Recipe</td>\n",
       "      <td>Masala Karela Recipe</td>\n",
       "      <td>6 Karela (Bitter Gourd/ Pavakkai) - deseeded,S...</td>\n",
       "      <td>6 Karela (Bitter Gourd/ Pavakkai) - deseeded,S...</td>\n",
       "      <td>15</td>\n",
       "      <td>30</td>\n",
       "      <td>45</td>\n",
       "      <td>6</td>\n",
       "      <td>Indian</td>\n",
       "      <td>Side Dish</td>\n",
       "      <td>Diabetic Friendly</td>\n",
       "      <td>To begin making the Masala Karela Recipe,de-se...</td>\n",
       "      <td>To begin making the Masala Karela Recipe,de-se...</td>\n",
       "      <td>https://www.archanaskitchen.com/masala-karela-...</td>\n",
       "    </tr>\n",
       "    <tr>\n",
       "      <th>1</th>\n",
       "      <td>2</td>\n",
       "      <td>टमाटर पुलियोगरे रेसिपी - Spicy Tomato Rice (Re...</td>\n",
       "      <td>Spicy Tomato Rice (Recipe)</td>\n",
       "      <td>2-1/2 कप चावल - पका ले,3 टमाटर,3 छोटा चमच्च बी...</td>\n",
       "      <td>2-1 / 2 cups rice - cooked, 3 tomatoes, 3 teas...</td>\n",
       "      <td>5</td>\n",
       "      <td>10</td>\n",
       "      <td>15</td>\n",
       "      <td>3</td>\n",
       "      <td>South Indian Recipes</td>\n",
       "      <td>Main Course</td>\n",
       "      <td>Vegetarian</td>\n",
       "      <td>टमाटर पुलियोगरे बनाने के लिए सबसे पहले टमाटर क...</td>\n",
       "      <td>To make tomato puliogere, first cut the tomato...</td>\n",
       "      <td>http://www.archanaskitchen.com/spicy-tomato-ri...</td>\n",
       "    </tr>\n",
       "    <tr>\n",
       "      <th>2</th>\n",
       "      <td>3</td>\n",
       "      <td>Ragi Semiya Upma Recipe - Ragi Millet Vermicel...</td>\n",
       "      <td>Ragi Semiya Upma Recipe - Ragi Millet Vermicel...</td>\n",
       "      <td>1-1/2 cups Rice Vermicelli Noodles (Thin),1 On...</td>\n",
       "      <td>1-1/2 cups Rice Vermicelli Noodles (Thin),1 On...</td>\n",
       "      <td>20</td>\n",
       "      <td>30</td>\n",
       "      <td>50</td>\n",
       "      <td>4</td>\n",
       "      <td>South Indian Recipes</td>\n",
       "      <td>South Indian Breakfast</td>\n",
       "      <td>High Protein Vegetarian</td>\n",
       "      <td>To begin making the Ragi Vermicelli Recipe, fi...</td>\n",
       "      <td>To begin making the Ragi Vermicelli Recipe, fi...</td>\n",
       "      <td>http://www.archanaskitchen.com/ragi-vermicelli...</td>\n",
       "    </tr>\n",
       "    <tr>\n",
       "      <th>3</th>\n",
       "      <td>4</td>\n",
       "      <td>Gongura Chicken Curry Recipe - Andhra Style Go...</td>\n",
       "      <td>Gongura Chicken Curry Recipe - Andhra Style Go...</td>\n",
       "      <td>500 grams Chicken,2 Onion - chopped,1 Tomato -...</td>\n",
       "      <td>500 grams Chicken,2 Onion - chopped,1 Tomato -...</td>\n",
       "      <td>15</td>\n",
       "      <td>30</td>\n",
       "      <td>45</td>\n",
       "      <td>4</td>\n",
       "      <td>Andhra</td>\n",
       "      <td>Lunch</td>\n",
       "      <td>Non Vegeterian</td>\n",
       "      <td>To begin making Gongura Chicken Curry Recipe f...</td>\n",
       "      <td>To begin making Gongura Chicken Curry Recipe f...</td>\n",
       "      <td>http://www.archanaskitchen.com/gongura-chicken...</td>\n",
       "    </tr>\n",
       "    <tr>\n",
       "      <th>4</th>\n",
       "      <td>5</td>\n",
       "      <td>आंध्रा स्टाइल आलम पचड़ी रेसिपी - Adrak Chutney ...</td>\n",
       "      <td>Andhra Style Alam Pachadi Recipe - Adrak Chutn...</td>\n",
       "      <td>1 बड़ा चमच्च चना दाल,1 बड़ा चमच्च सफ़ेद उरद दाल,2...</td>\n",
       "      <td>1 tablespoon chana dal, 1 tablespoon white ura...</td>\n",
       "      <td>10</td>\n",
       "      <td>20</td>\n",
       "      <td>30</td>\n",
       "      <td>4</td>\n",
       "      <td>Andhra</td>\n",
       "      <td>South Indian Breakfast</td>\n",
       "      <td>Vegetarian</td>\n",
       "      <td>आंध्रा स्टाइल आलम पचड़ी बनाने के लिए सबसे पहले ...</td>\n",
       "      <td>To make Andhra Style Alam Pachadi, first heat ...</td>\n",
       "      <td>https://www.archanaskitchen.com/andhra-style-a...</td>\n",
       "    </tr>\n",
       "  </tbody>\n",
       "</table>\n",
       "</div>"
      ],
      "text/plain": [
       "   Srno                                         RecipeName  \\\n",
       "0     1                               Masala Karela Recipe   \n",
       "1     2  टमाटर पुलियोगरे रेसिपी - Spicy Tomato Rice (Re...   \n",
       "2     3  Ragi Semiya Upma Recipe - Ragi Millet Vermicel...   \n",
       "3     4  Gongura Chicken Curry Recipe - Andhra Style Go...   \n",
       "4     5  आंध्रा स्टाइल आलम पचड़ी रेसिपी - Adrak Chutney ...   \n",
       "\n",
       "                                TranslatedRecipeName  \\\n",
       "0                               Masala Karela Recipe   \n",
       "1                         Spicy Tomato Rice (Recipe)   \n",
       "2  Ragi Semiya Upma Recipe - Ragi Millet Vermicel...   \n",
       "3  Gongura Chicken Curry Recipe - Andhra Style Go...   \n",
       "4  Andhra Style Alam Pachadi Recipe - Adrak Chutn...   \n",
       "\n",
       "                                         Ingredients  \\\n",
       "0  6 Karela (Bitter Gourd/ Pavakkai) - deseeded,S...   \n",
       "1  2-1/2 कप चावल - पका ले,3 टमाटर,3 छोटा चमच्च बी...   \n",
       "2  1-1/2 cups Rice Vermicelli Noodles (Thin),1 On...   \n",
       "3  500 grams Chicken,2 Onion - chopped,1 Tomato -...   \n",
       "4  1 बड़ा चमच्च चना दाल,1 बड़ा चमच्च सफ़ेद उरद दाल,2...   \n",
       "\n",
       "                               TranslatedIngredients  PrepTimeInMins  \\\n",
       "0  6 Karela (Bitter Gourd/ Pavakkai) - deseeded,S...              15   \n",
       "1  2-1 / 2 cups rice - cooked, 3 tomatoes, 3 teas...               5   \n",
       "2  1-1/2 cups Rice Vermicelli Noodles (Thin),1 On...              20   \n",
       "3  500 grams Chicken,2 Onion - chopped,1 Tomato -...              15   \n",
       "4  1 tablespoon chana dal, 1 tablespoon white ura...              10   \n",
       "\n",
       "   CookTimeInMins  TotalTimeInMins  Servings               Cuisine  \\\n",
       "0              30               45         6                Indian   \n",
       "1              10               15         3  South Indian Recipes   \n",
       "2              30               50         4  South Indian Recipes   \n",
       "3              30               45         4                Andhra   \n",
       "4              20               30         4                Andhra   \n",
       "\n",
       "                   Course                     Diet  \\\n",
       "0               Side Dish        Diabetic Friendly   \n",
       "1             Main Course               Vegetarian   \n",
       "2  South Indian Breakfast  High Protein Vegetarian   \n",
       "3                   Lunch           Non Vegeterian   \n",
       "4  South Indian Breakfast               Vegetarian   \n",
       "\n",
       "                                        Instructions  \\\n",
       "0  To begin making the Masala Karela Recipe,de-se...   \n",
       "1  टमाटर पुलियोगरे बनाने के लिए सबसे पहले टमाटर क...   \n",
       "2  To begin making the Ragi Vermicelli Recipe, fi...   \n",
       "3  To begin making Gongura Chicken Curry Recipe f...   \n",
       "4  आंध्रा स्टाइल आलम पचड़ी बनाने के लिए सबसे पहले ...   \n",
       "\n",
       "                              TranslatedInstructions  \\\n",
       "0  To begin making the Masala Karela Recipe,de-se...   \n",
       "1  To make tomato puliogere, first cut the tomato...   \n",
       "2  To begin making the Ragi Vermicelli Recipe, fi...   \n",
       "3  To begin making Gongura Chicken Curry Recipe f...   \n",
       "4  To make Andhra Style Alam Pachadi, first heat ...   \n",
       "\n",
       "                                                 URL  \n",
       "0  https://www.archanaskitchen.com/masala-karela-...  \n",
       "1  http://www.archanaskitchen.com/spicy-tomato-ri...  \n",
       "2  http://www.archanaskitchen.com/ragi-vermicelli...  \n",
       "3  http://www.archanaskitchen.com/gongura-chicken...  \n",
       "4  https://www.archanaskitchen.com/andhra-style-a...  "
      ]
     },
     "execution_count": 27,
     "metadata": {},
     "output_type": "execute_result"
    }
   ],
   "source": [
    "df.head()"
   ]
  },
  {
   "cell_type": "code",
   "execution_count": 28,
   "metadata": {},
   "outputs": [
    {
     "name": "stdout",
     "output_type": "stream",
     "text": [
      "<class 'pandas.core.frame.DataFrame'>\n",
      "RangeIndex: 6871 entries, 0 to 6870\n",
      "Data columns (total 15 columns):\n",
      " #   Column                  Non-Null Count  Dtype \n",
      "---  ------                  --------------  ----- \n",
      " 0   Srno                    6871 non-null   int64 \n",
      " 1   RecipeName              6871 non-null   object\n",
      " 2   TranslatedRecipeName    6871 non-null   object\n",
      " 3   Ingredients             6865 non-null   object\n",
      " 4   TranslatedIngredients   6865 non-null   object\n",
      " 5   PrepTimeInMins          6871 non-null   int64 \n",
      " 6   CookTimeInMins          6871 non-null   int64 \n",
      " 7   TotalTimeInMins         6871 non-null   int64 \n",
      " 8   Servings                6871 non-null   int64 \n",
      " 9   Cuisine                 6871 non-null   object\n",
      " 10  Course                  6871 non-null   object\n",
      " 11  Diet                    6871 non-null   object\n",
      " 12  Instructions            6871 non-null   object\n",
      " 13  TranslatedInstructions  6871 non-null   object\n",
      " 14  URL                     6871 non-null   object\n",
      "dtypes: int64(5), object(10)\n",
      "memory usage: 805.3+ KB\n"
     ]
    }
   ],
   "source": [
    "df.info()"
   ]
  },
  {
   "cell_type": "code",
   "execution_count": 29,
   "metadata": {},
   "outputs": [
    {
     "data": {
      "text/plain": [
       "Srno                      0\n",
       "RecipeName                0\n",
       "TranslatedRecipeName      0\n",
       "Ingredients               6\n",
       "TranslatedIngredients     6\n",
       "PrepTimeInMins            0\n",
       "CookTimeInMins            0\n",
       "TotalTimeInMins           0\n",
       "Servings                  0\n",
       "Cuisine                   0\n",
       "Course                    0\n",
       "Diet                      0\n",
       "Instructions              0\n",
       "TranslatedInstructions    0\n",
       "URL                       0\n",
       "dtype: int64"
      ]
     },
     "execution_count": 29,
     "metadata": {},
     "output_type": "execute_result"
    }
   ],
   "source": [
    "df.isnull().sum()"
   ]
  },
  {
   "cell_type": "code",
   "execution_count": 30,
   "metadata": {},
   "outputs": [
    {
     "data": {
      "text/plain": [
       "array(['Indian', 'South Indian Recipes', 'Andhra', 'Udupi', 'Mexican',\n",
       "       'Fusion', 'Continental', 'Bengali Recipes', 'Punjabi', 'Chettinad',\n",
       "       'Tamil Nadu', 'Maharashtrian Recipes', 'North Indian Recipes',\n",
       "       'Italian Recipes', 'Sindhi', 'Thai', 'Chinese', 'Kerala Recipes',\n",
       "       'Gujarati Recipes\\ufeff', 'Coorg', 'Rajasthani', 'Asian',\n",
       "       'Middle Eastern', 'Coastal Karnataka', 'European', 'Kashmiri',\n",
       "       'Karnataka', 'Lucknowi', 'Hyderabadi', 'Side Dish', 'Goan Recipes',\n",
       "       'Arab', 'Assamese', 'Bihari', 'Malabar', 'Himachal', 'Awadhi',\n",
       "       'Cantonese', 'North East India Recipes', 'Sichuan', 'Mughlai',\n",
       "       'Japanese', 'Mangalorean', 'Vietnamese', 'British',\n",
       "       'North Karnataka', 'Parsi Recipes', 'Greek', 'Nepalese',\n",
       "       'Oriya Recipes', 'French', 'Indo Chinese', 'Konkan',\n",
       "       'Mediterranean', 'Sri Lankan', 'Haryana', 'Uttar Pradesh',\n",
       "       'Malvani', 'Indonesian', 'African', 'Shandong', 'Korean',\n",
       "       'American', 'Kongunadu', 'Pakistani', 'Caribbean',\n",
       "       'South Karnataka', 'Appetizer', 'Uttarakhand-North Kumaon',\n",
       "       'World Breakfast', 'Malaysian', 'Dessert', 'Hunan', 'Dinner',\n",
       "       'Snack', 'Jewish', 'Burmese', 'Afghan', 'Brunch', 'Jharkhand',\n",
       "       'Nagaland', 'Lunch'], dtype=object)"
      ]
     },
     "execution_count": 30,
     "metadata": {},
     "output_type": "execute_result"
    }
   ],
   "source": [
    "df['Cuisine'].unique()"
   ]
  },
  {
   "cell_type": "code",
   "execution_count": 31,
   "metadata": {},
   "outputs": [
    {
     "data": {
      "text/plain": [
       "array(['Diabetic Friendly', 'Vegetarian', 'High Protein Vegetarian',\n",
       "       'Non Vegeterian', 'High Protein Non Vegetarian', 'Eggetarian',\n",
       "       'Vegan', 'No Onion No Garlic (Sattvic)', 'Gluten Free',\n",
       "       'Sugar Free Diet'], dtype=object)"
      ]
     },
     "execution_count": 31,
     "metadata": {},
     "output_type": "execute_result"
    }
   ],
   "source": [
    "df['Diet'].unique()"
   ]
  },
  {
   "cell_type": "code",
   "execution_count": 32,
   "metadata": {},
   "outputs": [
    {
     "data": {
      "text/plain": [
       "array(['Side Dish', 'Main Course', 'South Indian Breakfast', 'Lunch',\n",
       "       'Snack', 'High Protein Vegetarian', 'Dinner', 'Appetizer',\n",
       "       'Indian Breakfast', 'Dessert', 'North Indian Breakfast',\n",
       "       'One Pot Dish', 'World Breakfast', 'Non Vegeterian', 'Vegetarian',\n",
       "       'Eggetarian', 'No Onion No Garlic (Sattvic)', 'Brunch', 'Vegan',\n",
       "       'Sugar Free Diet'], dtype=object)"
      ]
     },
     "execution_count": 32,
     "metadata": {},
     "output_type": "execute_result"
    }
   ],
   "source": [
    "df['Course'].unique()"
   ]
  },
  {
   "cell_type": "code",
   "execution_count": 33,
   "metadata": {},
   "outputs": [
    {
     "data": {
      "text/plain": [
       "0       6 Karela (Bitter Gourd/ Pavakkai) - deseeded,S...\n",
       "1       2-1 / 2 cups rice - cooked, 3 tomatoes, 3 teas...\n",
       "2       1-1/2 cups Rice Vermicelli Noodles (Thin),1 On...\n",
       "3       500 grams Chicken,2 Onion - chopped,1 Tomato -...\n",
       "4       1 tablespoon chana dal, 1 tablespoon white ura...\n",
       "                              ...                        \n",
       "6866    20 बटन मशरुम,2 प्याज - काट ले,1 टमाटर - बारीक ...\n",
       "6867    1 बड़ा चम्मच तेल,1 कप गेहूं का आटा,नमक - स्वाद ...\n",
       "6868    150 grams Spring Onion (Bulb & Greens) - chopp...\n",
       "6869    1 kg Chicken - medium pieces,1/2 cup Mustard o...\n",
       "6870    2 बड़े चम्मच हरी मूंग दाल,2 बड़े चम्मच सफ़ेद उरद ...\n",
       "Name: TranslatedIngredients, Length: 6871, dtype: object"
      ]
     },
     "execution_count": 33,
     "metadata": {},
     "output_type": "execute_result"
    }
   ],
   "source": [
    "pd.set_option('display.max_columns', None)\n",
    "df['TranslatedIngredients']"
   ]
  },
  {
   "cell_type": "code",
   "execution_count": 34,
   "metadata": {},
   "outputs": [],
   "source": [
    "import re\n",
    "non_english_pattern = re.compile(r'[^\\x00-\\x7F]+')\n",
    "mask = df['TranslatedIngredients'].str.contains(non_english_pattern,na=False)\n",
    "\n",
    "df_english = df[~mask]\n",
    "\n"
   ]
  },
  {
   "cell_type": "code",
   "execution_count": 35,
   "metadata": {},
   "outputs": [
    {
     "name": "stdout",
     "output_type": "stream",
     "text": [
      "<class 'pandas.core.frame.DataFrame'>\n",
      "Index: 6179 entries, 0 to 6869\n",
      "Data columns (total 15 columns):\n",
      " #   Column                  Non-Null Count  Dtype \n",
      "---  ------                  --------------  ----- \n",
      " 0   Srno                    6179 non-null   int64 \n",
      " 1   RecipeName              6179 non-null   object\n",
      " 2   TranslatedRecipeName    6179 non-null   object\n",
      " 3   Ingredients             6173 non-null   object\n",
      " 4   TranslatedIngredients   6173 non-null   object\n",
      " 5   PrepTimeInMins          6179 non-null   int64 \n",
      " 6   CookTimeInMins          6179 non-null   int64 \n",
      " 7   TotalTimeInMins         6179 non-null   int64 \n",
      " 8   Servings                6179 non-null   int64 \n",
      " 9   Cuisine                 6179 non-null   object\n",
      " 10  Course                  6179 non-null   object\n",
      " 11  Diet                    6179 non-null   object\n",
      " 12  Instructions            6179 non-null   object\n",
      " 13  TranslatedInstructions  6179 non-null   object\n",
      " 14  URL                     6179 non-null   object\n",
      "dtypes: int64(5), object(10)\n",
      "memory usage: 772.4+ KB\n"
     ]
    }
   ],
   "source": [
    "df_english.info()"
   ]
  },
  {
   "cell_type": "code",
   "execution_count": 36,
   "metadata": {},
   "outputs": [
    {
     "data": {
      "text/plain": [
       "0       6 Karela (Bitter Gourd/ Pavakkai) - deseeded,S...\n",
       "1       2-1 / 2 cups rice - cooked, 3 tomatoes, 3 teas...\n",
       "2       1-1/2 cups Rice Vermicelli Noodles (Thin),1 On...\n",
       "3       500 grams Chicken,2 Onion - chopped,1 Tomato -...\n",
       "4       1 tablespoon chana dal, 1 tablespoon white ura...\n",
       "                              ...                        \n",
       "6863    2 cups Paneer (Homemade Cottage Cheese) - crum...\n",
       "6864    1-1/2 cup Risotto - cooked risotto (recipe bel...\n",
       "6865    1 cup Quinoa,3/4 cup Sugar,1 teaspoon Cardamom...\n",
       "6868    150 grams Spring Onion (Bulb & Greens) - chopp...\n",
       "6869    1 kg Chicken - medium pieces,1/2 cup Mustard o...\n",
       "Name: TranslatedIngredients, Length: 6179, dtype: object"
      ]
     },
     "execution_count": 36,
     "metadata": {},
     "output_type": "execute_result"
    }
   ],
   "source": [
    "df_english['TranslatedIngredients']"
   ]
  },
  {
   "cell_type": "code",
   "execution_count": 37,
   "metadata": {},
   "outputs": [],
   "source": [
    "import spacy\n",
    "import nltk\n",
    "from nltk.corpus import stopwords\n",
    "nlp = spacy.load('en_core_web_sm')"
   ]
  },
  {
   "cell_type": "code",
   "execution_count": 38,
   "metadata": {},
   "outputs": [],
   "source": [
    "def extract_ingredients(text):\n",
    "    if pd.isnull(text):\n",
    "        return ''\n",
    "    doc = nlp(text)\n",
    "    ingredients = [token.text for token in doc if token.pos_ in ['NOUN', 'PROPN'] or token.dep_ == 'compound']\n",
    "    return ', '.join(ingredients)"
   ]
  },
  {
   "cell_type": "code",
   "execution_count": 39,
   "metadata": {},
   "outputs": [],
   "source": [
    "df_english['Ingredients'] = df_english['TranslatedIngredients'].apply(extract_ingredients)"
   ]
  },
  {
   "cell_type": "code",
   "execution_count": 43,
   "metadata": {},
   "outputs": [
    {
     "data": {
      "text/plain": [
       "0       Karela, Gourd/, Pavakkai, Salt, Onion, sliced,...\n",
       "1       cups, rice, tomatoes, teaspoons, BC, Belle, Bh...\n",
       "2       1, cups, Rice, Vermicelli, Noodles, Thin),1, O...\n",
       "3       grams, Chicken,2, Onion, chopped,1, Tomato, ch...\n",
       "4       tablespoon, chana, dal, tablespoon, white, ura...\n",
       "                              ...                        \n",
       "6863    cups, Paneer, Homemade, Cottage, Cheese, crumb...\n",
       "6864    cup, Risotto, risotto, recipe, below),1, cup, ...\n",
       "6865    cup, Quinoa,3/4, cup, Sugar,1, teaspoon, Carda...\n",
       "6868    grams, Spring, Onion, Bulb, Greens, chopped,3/...\n",
       "6869    kg, Chicken, medium, pieces,1/2, cup, Mustard,...\n",
       "Name: Ingredients, Length: 6179, dtype: object"
      ]
     },
     "execution_count": 43,
     "metadata": {},
     "output_type": "execute_result"
    }
   ],
   "source": [
    "df_english['Ingredients']"
   ]
  },
  {
   "cell_type": "code",
   "execution_count": 44,
   "metadata": {},
   "outputs": [
    {
     "name": "stdout",
     "output_type": "stream",
     "text": [
      "<class 'pandas.core.frame.DataFrame'>\n",
      "Index: 6179 entries, 0 to 6869\n",
      "Data columns (total 15 columns):\n",
      " #   Column                  Non-Null Count  Dtype \n",
      "---  ------                  --------------  ----- \n",
      " 0   Srno                    6179 non-null   int64 \n",
      " 1   RecipeName              6179 non-null   object\n",
      " 2   TranslatedRecipeName    6179 non-null   object\n",
      " 3   Ingredients             6179 non-null   object\n",
      " 4   TranslatedIngredients   6173 non-null   object\n",
      " 5   PrepTimeInMins          6179 non-null   int64 \n",
      " 6   CookTimeInMins          6179 non-null   int64 \n",
      " 7   TotalTimeInMins         6179 non-null   int64 \n",
      " 8   Servings                6179 non-null   int64 \n",
      " 9   Cuisine                 6179 non-null   object\n",
      " 10  Course                  6179 non-null   object\n",
      " 11  Diet                    6179 non-null   object\n",
      " 12  Instructions            6179 non-null   object\n",
      " 13  TranslatedInstructions  6179 non-null   object\n",
      " 14  URL                     6179 non-null   object\n",
      "dtypes: int64(5), object(10)\n",
      "memory usage: 772.4+ KB\n"
     ]
    }
   ],
   "source": [
    "df_english.info()"
   ]
  },
  {
   "cell_type": "code",
   "execution_count": 45,
   "metadata": {},
   "outputs": [],
   "source": [
    "import string\n",
    "import nltk\n",
    "from nltk.corpus import stopwords\n",
    "from sklearn.feature_extraction.text import TfidfVectorizer\n",
    "from sklearn.metrics.pairwise import cosine_similarity"
   ]
  },
  {
   "cell_type": "code",
   "execution_count": 46,
   "metadata": {},
   "outputs": [
    {
     "name": "stderr",
     "output_type": "stream",
     "text": [
      "[nltk_data] Downloading package stopwords to\n",
      "[nltk_data]     C:\\Users\\smrut\\AppData\\Roaming\\nltk_data...\n",
      "[nltk_data]   Package stopwords is already up-to-date!\n"
     ]
    },
    {
     "data": {
      "text/plain": [
       "True"
      ]
     },
     "execution_count": 46,
     "metadata": {},
     "output_type": "execute_result"
    }
   ],
   "source": [
    "import nltk.downloader\n",
    "\n",
    "\n",
    "nltk.downloader.download('stopwords')"
   ]
  },
  {
   "cell_type": "code",
   "execution_count": 47,
   "metadata": {},
   "outputs": [],
   "source": [
    "def preprocess_text(text):\n",
    "    # Lowercase the text\n",
    "    text = text.lower()\n",
    "    # Remove punctuation\n",
    "    text = ''.join([char for char in text if char not in string.punctuation])\n",
    "    # Tokenize the text\n",
    "    tokens = nltk.word_tokenize(text)\n",
    "    # Remove stopwords\n",
    "    stop_words = set(stopwords.words('english'))  # Explicitly load stopwords from NLTK corpus\n",
    "    tokens = [word for word in tokens if word not in stop_words]\n",
    "    return ' '.join(tokens)"
   ]
  },
  {
   "cell_type": "code",
   "execution_count": 50,
   "metadata": {},
   "outputs": [],
   "source": [
    "df_english['Ingredients'] = df_english['Ingredients'].apply(preprocess_text)"
   ]
  },
  {
   "cell_type": "code",
   "execution_count": 51,
   "metadata": {},
   "outputs": [],
   "source": [
    "df_english['CleanedIngredients'] = df_english['Ingredients'].apply(lambda x: x.split(','))"
   ]
  },
  {
   "cell_type": "code",
   "execution_count": 53,
   "metadata": {},
   "outputs": [],
   "source": [
    "tfidf_vectorizer = TfidfVectorizer()\n",
    "tfidf_matrix = tfidf_vectorizer.fit_transform(df_english['Ingredients'])"
   ]
  },
  {
   "cell_type": "code",
   "execution_count": 54,
   "metadata": {},
   "outputs": [],
   "source": [
    "def calculate_similarity(user_ingredients, user_prep_time, user_cook_time):\n",
    "    # User ingredients\n",
    "    user_ingredients_text = preprocess_text(', '.join(user_ingredients))\n",
    "    user_tfidf = tfidf_vectorizer.transform([user_ingredients_text])\n",
    "    cosine_similarities = cosine_similarity(user_tfidf, tfidf_matrix)[0]\n",
    "    \n",
    "    # Weighted features\n",
    "    prep_time_similarity = 1 - abs(df['PrepTimeInMins'] - user_prep_time) / df['PrepTimeInMins'].max()\n",
    "    cook_time_similarity = 1 - abs(df['CookTimeInMins'] - user_cook_time) / df['CookTimeInMins'].max()\n",
    "    \n",
    "    # Align shapes\n",
    "    min_length = min(len(cosine_similarities), len(prep_time_similarity), len(cook_time_similarity))\n",
    "    cosine_similarities = cosine_similarities[:min_length]\n",
    "    prep_time_similarity = prep_time_similarity[:min_length]\n",
    "    cook_time_similarity = cook_time_similarity[:min_length]\n",
    "    \n",
    "    # Combine similarity scores with weighted features\n",
    "    combined_similarity = (cosine_similarities + prep_time_similarity + cook_time_similarity) / 3\n",
    "    return combined_similarity"
   ]
  },
  {
   "cell_type": "code",
   "execution_count": 55,
   "metadata": {},
   "outputs": [],
   "source": [
    "def recommend_recipes(user_ingredients, user_prep_time, user_cook_time, top_n=5):\n",
    "    combined_similarity = calculate_similarity(user_ingredients, user_prep_time, user_cook_time)\n",
    "#     print(\"Shape of combined_similarity:\", combined_similarity.shape)\n",
    "    # Sort the indices based on similarity scores in descending order\n",
    "    sorted_indices = combined_similarity.argsort()[::-1]\n",
    "#     print(\"Sorted indices:\", sorted_indices)\n",
    "#     print(\"Top n:\", top_n)\n",
    "#     print(\"Column indexer:\", df.columns.get_indexer(['RecipeName', 'TranslatedRecipeName']))\n",
    "    # Select top_n recipes based on sorted indices\n",
    "    top_recommendations = df.iloc[sorted_indices[:top_n], df.columns.get_indexer(['RecipeName', 'TranslatedRecipeName'])].copy()\n",
    "    return top_recommendations"
   ]
  },
  {
   "cell_type": "code",
   "execution_count": 56,
   "metadata": {},
   "outputs": [
    {
     "data": {
      "text/html": [
       "<div>\n",
       "<style scoped>\n",
       "    .dataframe tbody tr th:only-of-type {\n",
       "        vertical-align: middle;\n",
       "    }\n",
       "\n",
       "    .dataframe tbody tr th {\n",
       "        vertical-align: top;\n",
       "    }\n",
       "\n",
       "    .dataframe thead th {\n",
       "        text-align: right;\n",
       "    }\n",
       "</style>\n",
       "<table border=\"1\" class=\"dataframe\">\n",
       "  <thead>\n",
       "    <tr style=\"text-align: right;\">\n",
       "      <th></th>\n",
       "      <th>RecipeName</th>\n",
       "      <th>TranslatedRecipeName</th>\n",
       "    </tr>\n",
       "  </thead>\n",
       "  <tbody>\n",
       "    <tr>\n",
       "      <th>2516</th>\n",
       "      <td>Broccoli &amp; Vegetable Coconut Curry Recipe</td>\n",
       "      <td>Broccoli &amp; Vegetable Coconut Curry Recipe</td>\n",
       "    </tr>\n",
       "    <tr>\n",
       "      <th>5351</th>\n",
       "      <td>Baked Cheesy Broccoli Pasta Recipe</td>\n",
       "      <td>Baked Cheesy Broccoli Pasta Recipe</td>\n",
       "    </tr>\n",
       "    <tr>\n",
       "      <th>144</th>\n",
       "      <td>कटाची आमटी रेसिपी - Katachi Amti (Recipe In Hi...</td>\n",
       "      <td>Katachi Amti (Recipe In Hindi)</td>\n",
       "    </tr>\n",
       "    <tr>\n",
       "      <th>2672</th>\n",
       "      <td>Mushroom Masala Cheese Omelette Recipe</td>\n",
       "      <td>Mushroom Masala Cheese Omelette Recipe</td>\n",
       "    </tr>\n",
       "    <tr>\n",
       "      <th>590</th>\n",
       "      <td>Cheesy Vegetarian Pizza Muffins Recipe</td>\n",
       "      <td>Cheesy Vegetarian Pizza Muffins Recipe</td>\n",
       "    </tr>\n",
       "  </tbody>\n",
       "</table>\n",
       "</div>"
      ],
      "text/plain": [
       "                                             RecipeName  \\\n",
       "2516          Broccoli & Vegetable Coconut Curry Recipe   \n",
       "5351                 Baked Cheesy Broccoli Pasta Recipe   \n",
       "144   कटाची आमटी रेसिपी - Katachi Amti (Recipe In Hi...   \n",
       "2672             Mushroom Masala Cheese Omelette Recipe   \n",
       "590              Cheesy Vegetarian Pizza Muffins Recipe   \n",
       "\n",
       "                           TranslatedRecipeName  \n",
       "2516  Broccoli & Vegetable Coconut Curry Recipe  \n",
       "5351         Baked Cheesy Broccoli Pasta Recipe  \n",
       "144              Katachi Amti (Recipe In Hindi)  \n",
       "2672     Mushroom Masala Cheese Omelette Recipe  \n",
       "590      Cheesy Vegetarian Pizza Muffins Recipe  "
      ]
     },
     "execution_count": 56,
     "metadata": {},
     "output_type": "execute_result"
    }
   ],
   "source": [
    "user_ingredients = [\"onion\", \"tomato\", \"garlic\", \"ginger\"]\n",
    "user_prep_time = 30  # minutes\n",
    "user_cook_time = 45  # minutes\n",
    "recommendations = recommend_recipes(user_ingredients, user_prep_time, user_cook_time)\n",
    "recommendations"
   ]
  },
  {
   "cell_type": "code",
   "execution_count": 58,
   "metadata": {},
   "outputs": [
    {
     "name": "stdout",
     "output_type": "stream",
     "text": [
      "Recipe Information for Index 2516\n",
      "Srno                                                                   2964\n",
      "RecipeName                        Broccoli & Vegetable Coconut Curry Recipe\n",
      "TranslatedRecipeName              Broccoli & Vegetable Coconut Curry Recipe\n",
      "Ingredients               400 grams Broccoli - cut into florets,1 Red Be...\n",
      "TranslatedIngredients     400 grams Broccoli - cut into florets,1 Red Be...\n",
      "PrepTimeInMins                                                           20\n",
      "CookTimeInMins                                                           40\n",
      "TotalTimeInMins                                                          60\n",
      "Servings                                                                  4\n",
      "Cuisine                                                         Mangalorean\n",
      "Course                                                            Side Dish\n",
      "Diet                                                      Diabetic Friendly\n",
      "Instructions              To begin making the Broccoli & Vegetable Cocon...\n",
      "TranslatedInstructions    To begin making the Broccoli & Vegetable Cocon...\n",
      "URL                       https://www.archanaskitchen.com/broccoli-and-v...\n",
      "Name: 2516, dtype: object\n",
      "---------------------------------------------------------------------------------------------\n",
      "Recipe Information for Index 5351\n",
      "Srno                                                                   7803\n",
      "RecipeName                               Baked Cheesy Broccoli Pasta Recipe\n",
      "TranslatedRecipeName                     Baked Cheesy Broccoli Pasta Recipe\n",
      "Ingredients               350 grams Penne pasta,2 cups Broccoli - floret...\n",
      "TranslatedIngredients     350 grams Penne pasta,2 cups Broccoli - floret...\n",
      "PrepTimeInMins                                                           10\n",
      "CookTimeInMins                                                           30\n",
      "TotalTimeInMins                                                          40\n",
      "Servings                                                                  4\n",
      "Cuisine                                                     Italian Recipes\n",
      "Course                                                               Dinner\n",
      "Diet                                                High Protein Vegetarian\n",
      "Instructions              To begin making the Broccoli Cheesy Pesto Past...\n",
      "TranslatedInstructions    To begin making the Broccoli Cheesy Pesto Past...\n",
      "URL                       http://www.archanaskitchen.com/broccoli-pesto-...\n",
      "Name: 5351, dtype: object\n",
      "---------------------------------------------------------------------------------------------\n",
      "Recipe Information for Index 144\n",
      "Srno                                                                    155\n",
      "RecipeName                कटाची आमटी रेसिपी - Katachi Amti (Recipe In Hi...\n",
      "TranslatedRecipeName                         Katachi Amti (Recipe In Hindi)\n",
      "Ingredients               2 कप दाल का पानी - चना दाल का पानी,1 कप पानी -...\n",
      "TranslatedIngredients     2 cups lentil water - chana lentil water, 1 cu...\n",
      "PrepTimeInMins                                                           10\n",
      "CookTimeInMins                                                           15\n",
      "TotalTimeInMins                                                          25\n",
      "Servings                                                                  4\n",
      "Cuisine                                               Maharashtrian Recipes\n",
      "Course                                                                Lunch\n",
      "Diet                                                             Vegetarian\n",
      "Instructions              कटाची आमटी बनाने के लिए सबसे पहले पानी को दाल ...\n",
      "TranslatedInstructions    To make kachchi mango, first mix the water in ...\n",
      "URL                       https://www.archanaskitchen.com/katachi-amti-r...\n",
      "Name: 144, dtype: object\n",
      "---------------------------------------------------------------------------------------------\n",
      "Recipe Information for Index 2672\n",
      "Srno                                                                   3190\n",
      "RecipeName                           Mushroom Masala Cheese Omelette Recipe\n",
      "TranslatedRecipeName                 Mushroom Masala Cheese Omelette Recipe\n",
      "Ingredients               2 Whole Eggs,10 Button mushrooms - roughly cho...\n",
      "TranslatedIngredients     2 Whole Eggs,10 Button mushrooms - roughly cho...\n",
      "PrepTimeInMins                                                           10\n",
      "CookTimeInMins                                                           10\n",
      "TotalTimeInMins                                                          20\n",
      "Servings                                                                  1\n",
      "Cuisine                                                         Continental\n",
      "Course                                                     Indian Breakfast\n",
      "Diet                                            High Protein Non Vegetarian\n",
      "Instructions              To begin making Mushroom Masala Omelette Recip...\n",
      "TranslatedInstructions    To begin making Mushroom Masala Omelette Recip...\n",
      "URL                       https://www.archanaskitchen.com/mushroom-masal...\n",
      "Name: 2672, dtype: object\n",
      "---------------------------------------------------------------------------------------------\n",
      "Recipe Information for Index 590\n",
      "Srno                                                                    639\n",
      "RecipeName                           Cheesy Vegetarian Pizza Muffins Recipe\n",
      "TranslatedRecipeName                 Cheesy Vegetarian Pizza Muffins Recipe\n",
      "Ingredients               1-1/2 cups All Purpose Flour (Maida),1-1/2 tea...\n",
      "TranslatedIngredients     1-1/2 cups All Purpose Flour (Maida),1-1/2 tea...\n",
      "PrepTimeInMins                                                           10\n",
      "CookTimeInMins                                                           45\n",
      "TotalTimeInMins                                                          55\n",
      "Servings                                                                  2\n",
      "Cuisine                                                              Fusion\n",
      "Course                                                            Appetizer\n",
      "Diet                                                             Vegetarian\n",
      "Instructions              To begin making the Cheesy Vegetarian Pizza Mu...\n",
      "TranslatedInstructions    To begin making the Cheesy Vegetarian Pizza Mu...\n",
      "URL                       http://www.archanaskitchen.com/cheesy-vegetari...\n",
      "Name: 590, dtype: object\n",
      "---------------------------------------------------------------------------------------------\n"
     ]
    }
   ],
   "source": [
    "for index in recommendations.index:\n",
    "    recipe_info = df.loc[index]\n",
    "    print(\"Recipe Information for Index\", index)\n",
    "    print(recipe_info)\n",
    "    print(\"---------------------------------------------------------------------------------------------\")"
   ]
  },
  {
   "cell_type": "code",
   "execution_count": 59,
   "metadata": {},
   "outputs": [],
   "source": [
    "from IPython.display import HTML"
   ]
  },
  {
   "cell_type": "code",
   "execution_count": 60,
   "metadata": {},
   "outputs": [
    {
     "data": {
      "text/html": [
       "<table><tr><th>Srno</th><th>Recipe Name</th><th>Translated Recipe Name</th><th>Ingredients</th><th>Translated Ingredients</th><th>Prep Time (mins)</th><th>Cook Time (mins)</th><th>Total Time (mins)</th><th>Servings</th><th>Cuisine</th><th>Course</th><th>Diet</th><th>Instructions</th><th>Translated Instructions</th><th>URL</th></tr><tr><td>2964</td><td>Broccoli & Vegetable Coconut Curry Recipe</td><td>Broccoli & Vegetable Coconut Curry Recipe</td><td>400 grams Broccoli - cut into florets,1 Red Bell pepper (Capsicum) - thinly sliced,1 Onion - chopped,4 Dry Red Chilli,1 teaspoon Methi Seeds (Fenugreek Seeds),1 tablespoon Coriander (Dhania) Seeds,1 teaspoon Cumin seeds (Jeera),1 tablespoon Whole Black Peppercorns,Tamarind - lemon size,2 cups Fresh coconut - grated,3 cloves Garlic,1 teaspoon Turmeric powder (Haldi),Salt - to taste,Sunflower Oil - for cooking</td><td>400 grams Broccoli - cut into florets,1 Red Bell pepper (Capsicum) - thinly sliced,1 Onion - chopped,4 Dry Red Chilli,1 teaspoon Methi Seeds (Fenugreek Seeds),1 tablespoon Coriander (Dhania) Seeds,1 teaspoon Cumin seeds (Jeera),1 tablespoon Whole Black Peppercorns,Tamarind - lemon size,2 cups Fresh coconut - grated,3 cloves Garlic,1 teaspoon Turmeric powder (Haldi),Salt - to taste,Sunflower Oil - for cooking</td><td>20</td><td>40</td><td>60</td><td>4</td><td>Mangalorean</td><td>Side Dish</td><td>Diabetic Friendly</td><td>To begin making the Broccoli & Vegetable Coconut Curry Recipe, we will first make the Broccoli Curry Masala. In a small pan; roast the dry red chillies, fenugreek, coriander, cumin and black pepper until you can smell the roasted aromas. Add these to a small blender jar, along with the coconut, tamarind and turmeric powder. Grind the spices adding very little water to make a smooth curry paste. The curry paste is now ready. Keep aside.In the next step; heat a teaspoon of oil in a pan; add the chopped onions, broccoli and red bell peppers and saute for a couple of minutes until the onions are soft and tender. Add the curry paste and saute for a couple of more minutes. Stir in salt and add about 1-1/2 to 2 cups of water. You essentially want a thick gravy for the Broccoli Curry; hence add water accordingly. Give all the ingredients a good stir. Check the salt levels and adjust to suit your taste. Give the mixture a quick boil only when you are ready to serve. Serve the Broccoli & Vegetable Coconut Curry, along with Neer Dosa or Kerala (Lachha) Paratha or even plain steamed rice.\n",
       "</td><td>To begin making the Broccoli & Vegetable Coconut Curry Recipe, we will first make the Broccoli Curry Masala. In a small pan; roast the dry red chillies, fenugreek, coriander, cumin and black pepper until you can smell the roasted aromas. Add these to a small blender jar, along with the coconut, tamarind and turmeric powder. Grind the spices adding very little water to make a smooth curry paste. The curry paste is now ready. Keep aside.In the next step; heat a teaspoon of oil in a pan; add the chopped onions, broccoli and red bell peppers and saute for a couple of minutes until the onions are soft and tender. Add the curry paste and saute for a couple of more minutes. Stir in salt and add about 1-1/2 to 2 cups of water. You essentially want a thick gravy for the Broccoli Curry; hence add water accordingly. Give all the ingredients a good stir. Check the salt levels and adjust to suit your taste. Give the mixture a quick boil only when you are ready to serve. Serve the Broccoli & Vegetable Coconut Curry, along with Neer Dosa or Kerala (Lachha) Paratha or even plain steamed rice.</td><td>https://www.archanaskitchen.com/broccoli-and-vegetable-curry-recipe</td></tr><tr><td>7803</td><td>Baked Cheesy Broccoli Pasta Recipe</td><td>Baked Cheesy Broccoli Pasta Recipe</td><td>350 grams Penne pasta,2 cups Broccoli - florets,6 cloves Garlic - finely chopped,1/2 teaspoon Black pepper powder,2 teaspoons Italian seasoning,1 teaspoon Red Chilli flakes,1/4 cup Mozzarella cheese - grated,1 tablespoon Extra Virgin Olive Oil,Salt - to taste,2 tablespoons Whole Wheat Flour,1 cup Milk,1/4 cup Fresh cream,Salt and Pepper - to taste,1/4 teaspoon Nutmeg</td><td>350 grams Penne pasta,2 cups Broccoli - florets,6 cloves Garlic - finely chopped,1/2 teaspoon Black pepper powder,2 teaspoons Italian seasoning,1 teaspoon Red Chilli flakes,1/4 cup Mozzarella cheese - grated,1 tablespoon Extra Virgin Olive Oil,Salt - to taste,2 tablespoons Whole Wheat Flour,1 cup Milk,1/4 cup Fresh cream,Salt and Pepper - to taste,1/4 teaspoon Nutmeg</td><td>10</td><td>30</td><td>40</td><td>4</td><td>Italian Recipes</td><td>Dinner</td><td>High Protein Vegetarian</td><td>To begin making the Broccoli Cheesy Pesto Pasta Recipe, first get all the ingredients ready.To Cook the Pasta Keep 500ml of water in a stock pot and allow it to boil, add in pasta along with a teaspoon of salt and allow it to boil and cook for at least 10-15 minutes until the pasta is cooked till al dente. Once the pasta is cooked,drain the water and rinse it under cold water to prevent it from getting overcooked in the heat. Drizzle some olive oil over the pasta and toss it well and keep the cooked pasta aside.To Make the Bechamel Sauce Whisk together the flours, salt, pepper, nutmeg and the milk until all the flour is well dissolved into the milk. Pour the white sauce mixture into a saucepan and begin cooking the Bechamel sauce until it thickens.As the White Sauce pasta mixture-Bechamel Sauce begins to thicken, add in the cream and continue to stir well until there are no lumps and the mixture is cooked through completely.Once the sauce is cooked and you are happy with the consistency, switch off the flame. To Make the Baked Cheesy Broccoli Pasta Preheat the oven to 180 degree celsius for 10 minutes and keep it ready. Heat a teaspoon of oil in a wok, add chopped garlic and saute till it softens. Add in the broccoli florets, teaspoon of salt, and roast them until cooked through. Sprinkle the italian seasonings, red chilli flakes and pepper powder and give it a stir. Add in your White sauce-Bechamel sauce along with pasta and mix well until the pasta is well coated.Check the salt and adjust to suit your taste.Turn off the heat and transfer the Broccoli Pasta to a ceramic baked pan, sprinkle with mozzarella cheese on top and bake in the oven till the cheese melts. Serve the Broccoli Cheesy Pesto Pasta Recipe along with a Watermelon Panzanella Salad and glass of wine for a perfect weeknight dinner with your partner or even pack into a lunchbox for kids.\n",
       "</td><td>To begin making the Broccoli Cheesy Pesto Pasta Recipe, first get all the ingredients ready.To Cook the Pasta Keep 500ml of water in a stock pot and allow it to boil, add in pasta along with a teaspoon of salt and allow it to boil and cook for at least 10-15 minutes until the pasta is cooked till al dente. Once the pasta is cooked,drain the water and rinse it under cold water to prevent it from getting overcooked in the heat. Drizzle some olive oil over the pasta and toss it well and keep the cooked pasta aside.To Make the Bechamel Sauce Whisk together the flours, salt, pepper, nutmeg and the milk until all the flour is well dissolved into the milk. Pour the white sauce mixture into a saucepan and begin cooking the Bechamel sauce until it thickens.As the White Sauce pasta mixture-Bechamel Sauce begins to thicken, add in the cream and continue to stir well until there are no lumps and the mixture is cooked through completely.Once the sauce is cooked and you are happy with the consistency, switch off the flame. To Make the Baked Cheesy Broccoli Pasta Preheat the oven to 180 degree celsius for 10 minutes and keep it ready. Heat a teaspoon of oil in a wok, add chopped garlic and saute till it softens. Add in the broccoli florets, teaspoon of salt, and roast them until cooked through. Sprinkle the italian seasonings, red chilli flakes and pepper powder and give it a stir. Add in your White sauce-Bechamel sauce along with pasta and mix well until the pasta is well coated.Check the salt and adjust to suit your taste.Turn off the heat and transfer the Broccoli Pasta to a ceramic baked pan, sprinkle with mozzarella cheese on top and bake in the oven till the cheese melts. Serve the Broccoli Cheesy Pesto Pasta Recipe along with a Watermelon Panzanella Salad and glass of wine for a perfect weeknight dinner with your partner or even pack into a lunchbox for kids.</td><td>http://www.archanaskitchen.com/broccoli-pesto-pasta-recipe</td></tr><tr><td>155</td><td>कटाची आमटी रेसिपी - Katachi Amti (Recipe In Hindi)</td><td> Katachi Amti (Recipe In Hindi)</td><td>2 कप दाल का पानी - चना दाल का पानी,1 कप पानी - प्रयोग अनुसार,3 लॉन्ग,2 पूरी काली मिर्च,1 छोटा चमच्च जीरा,1 छोटा चमच्च राइ,1 तेज पत्ता,5 कढ़ी पत्ता - तोड़ ले,1 छोटा चमच्च गुड़ - कस ले,1 छोटा चमच्च इमली का पेस्ट - अपने अनुसार ज्यादा कम कर ले,1/2 छोटा चमच्च गोडा मसाला,1 बड़ा चमच्च तेल,हरा धनिया - थोड़ा,नमक - to taste</td><td>2 cups lentil water - chana lentil water, 1 cup water - as per the experiment, 3 long, 2 whole black peppers, 1 teaspoon cumin, 1 teaspoon mustard, 1 bay leaf, 5 curry leaves - break, 1 teaspoon Jaggery - grated, 1 teaspoon tamarind paste - reduce as much as you like, 1/2 teaspoon goda masala, 1 tablespoon oil, coriander leaves - little, salt - to taste</td><td>10</td><td>15</td><td>25</td><td>4</td><td>Maharashtrian Recipes</td><td>Lunch</td><td>Vegetarian</td><td>कटाची आमटी बनाने के लिए सबसे पहले पानी को दाल के पानी में मिला ले. अलग से रख दे. अब एक सॉसपैन में तेल गरम करें। इसमें राइ डाले और 10 सेकण्ड्स तक पकने दे. 10 सेकण्ड्स के बाद ,इसमें लॉन्ग, तेज पत्ता और काली मिर्च डाले। 20 सेकण्ड्स तक पकाने के बाद इसमें जीरा, कढ़ी पत्ता और हरा धनिया डाले। 30 सेकण्ड्स बाद, दाल का पानी, गुड़, इमली  का पेस्ट, गोडा मसाला और नमक डाले। उबाला आने तक पकाए। उबाला आने के बाद गैस बंद करें और परोसे। कटाची आमटी को पुरन पोली के साथ त्यौहार के दिनों में परोसे।\n",
       "</td><td>To make kachchi mango, first mix the water in the lentils. Keep it aside. Now heat the oil in a saucepan. Add mustard seeds and let it cook for 10 seconds. After 10 seconds, add long, bay leaves and black pepper. After cooking for 20 seconds, add cumin seeds, curry leaves and coriander leaves. After 30 seconds, add lentil water, jaggery, tamarind paste, goda masala and salt. Cook until it boils. Turn off the gas after boiling and serve. Serve Katachi Amati with Puran Poli on festival days.</td><td>https://www.archanaskitchen.com/katachi-amti-recipe-spicy-accompaniment-to-maharashtrian-puran-poli-in-hindi</td></tr><tr><td>3190</td><td>Mushroom Masala Cheese Omelette Recipe</td><td>Mushroom Masala Cheese Omelette Recipe</td><td>2 Whole Eggs,10 Button mushrooms - roughly chopped,1/2 Onion - finely chopped,1 Green Chilli - finely chopped,1/2 Tomato - finely chopped,4 Black olives - finely chopped,1 tablespoon Cheese - grated,Coriander (Dhania) Leaves - a small bunch chopped,Salt and Pepper - to taste,1 teaspoon Sunflower Oil - for cooking</td><td>2 Whole Eggs,10 Button mushrooms - roughly chopped,1/2 Onion - finely chopped,1 Green Chilli - finely chopped,1/2 Tomato - finely chopped,4 Black olives - finely chopped,1 tablespoon Cheese - grated,Coriander (Dhania) Leaves - a small bunch chopped,Salt and Pepper - to taste,1 teaspoon Sunflower Oil - for cooking</td><td>10</td><td>10</td><td>20</td><td>1</td><td>Continental</td><td>Indian Breakfast</td><td>High Protein Non Vegetarian</td><td>To begin making Mushroom Masala Omelette Recipe, first prep all the ingredients and keep them ready.In a mixing bowl, break the eggs and whisk them up well along with salt, pepper, olives, cheese and tomatoes. Keep this aside.Heat oil in an omelette pan over medium heat; add the mushrooms, onions and green chillies and saute until the onions and mushrooms are slightly roasted. Once roasted, add the egg omelette cheese mixture into the roasted onion and mushrooms.Swirl the pan to spread the omelette mixture and gently combine the onions and mushrooms and spread it around.Keep the heat on low and cook the omelette until you notice the top is getting steamed and cooked. You can also optionally cover the pan and cook the omelette faster.Once the top is cooked, fold the omelette into half and cook for another few minutes is required and turn off the heat. You can also optionally flip the omelette and cook it on both sides.Serve the Mushroom Masala Omelette along with a Toast, fruits and a cup of Masala Chai or Filter Coffee.\n",
       "</td><td>To begin making Mushroom Masala Omelette Recipe, first prep all the ingredients and keep them ready.In a mixing bowl, break the eggs and whisk them up well along with salt, pepper, olives, cheese and tomatoes. Keep this aside.Heat oil in an omelette pan over medium heat; add the mushrooms, onions and green chillies and saute until the onions and mushrooms are slightly roasted. Once roasted, add the egg omelette cheese mixture into the roasted onion and mushrooms.Swirl the pan to spread the omelette mixture and gently combine the onions and mushrooms and spread it around.Keep the heat on low and cook the omelette until you notice the top is getting steamed and cooked. You can also optionally cover the pan and cook the omelette faster.Once the top is cooked, fold the omelette into half and cook for another few minutes is required and turn off the heat. You can also optionally flip the omelette and cook it on both sides.Serve the Mushroom Masala Omelette along with a Toast, fruits and a cup of Masala Chai or Filter Coffee.\n",
       "</td><td>https://www.archanaskitchen.com/mushroom-masala-cheese-omelette-recipe</td></tr><tr><td>639</td><td>Cheesy Vegetarian Pizza Muffins Recipe</td><td>Cheesy Vegetarian Pizza Muffins Recipe</td><td>1-1/2 cups All Purpose Flour (Maida),1-1/2 teaspoons Baking powder,1/2 teaspoon Salt,1/2 Green Bell Pepper (Capsicum) - finely chopped,1 Whole Egg,1/4 cup Extra Virgin Olive Oil,1/2 cup Homemade Pizza And Pasta Sauce,1 teaspoon Dried oregano,1 sprig Basil leaves - finely chopped,1/2 cup Mozzarella cheese</td><td>1-1/2 cups All Purpose Flour (Maida),1-1/2 teaspoons Baking powder,1/2 teaspoon Salt,1/2 Green Bell Pepper (Capsicum) - finely chopped,1 Whole Egg,1/4 cup Extra Virgin Olive Oil,1/2 cup Homemade Pizza And Pasta Sauce,1 teaspoon Dried oregano,1 sprig Basil leaves - finely chopped,1/2 cup Mozzarella cheese</td><td>10</td><td>45</td><td>55</td><td>2</td><td>Fusion</td><td>Appetizer</td><td>Vegetarian</td><td>To begin making the Cheesy Vegetarian Pizza Muffins recipe, preheat the oven to 200 C. Line the muffin pans with cupcake liners and keep aside.Sift the flour, salt and baking powder together in a large mixing bowl and set aside.Gradually add the remaining ingredients that includes green bell pepper, egg, olive oil, pizza sauce, oregano and basil leaves except the cheese into the flour mixture and using a hand mixer, combine all the ingredients until well combined.Ensure not to over beat the pizza muffin batter. Spoon the muffins into the muffin cavities until 3/4th full. Place the pizza muffins in the oven to make and bake for 20 minutes.When the muffins are almost done, remove from the oven and sprinkle the cheese on the top and put it back into the oven, until the cheese melts.Once the pizza muffins are completely done, remove from the oven and allow it to cool for 15 minutes before you are ready to serve.The Cheesy Pizza Muffins make a great snack for kids that can be packed into their lunchbox or even made for birthday parties.Serve the Cheesy Vegetarian Pizza Muffins with Masala Chai and Linzer cookies for your tea time break or evening snacks.\n",
       "</td><td>To begin making the Cheesy Vegetarian Pizza Muffins recipe, preheat the oven to 200 C. Line the muffin pans with cupcake liners and keep aside.Sift the flour, salt and baking powder together in a large mixing bowl and set aside.Gradually add the remaining ingredients that includes green bell pepper, egg, olive oil, pizza sauce, oregano and basil leaves except the cheese into the flour mixture and using a hand mixer, combine all the ingredients until well combined.Ensure not to over beat the pizza muffin batter. Spoon the muffins into the muffin cavities until 3/4th full. Place the pizza muffins in the oven to make and bake for 20 minutes.When the muffins are almost done, remove from the oven and sprinkle the cheese on the top and put it back into the oven, until the cheese melts.Once the pizza muffins are completely done, remove from the oven and allow it to cool for 15 minutes before you are ready to serve.The Cheesy Pizza Muffins make a great snack for kids that can be packed into their lunchbox or even made for birthday parties.Serve the Cheesy Vegetarian Pizza Muffins with Masala Chai and Linzer cookies for your tea time break or evening snacks.</td><td>http://www.archanaskitchen.com/cheesy-vegetarian-pizza-muffins-recipe</td></tr></table>"
      ],
      "text/plain": [
       "<IPython.core.display.HTML object>"
      ]
     },
     "execution_count": 60,
     "metadata": {},
     "output_type": "execute_result"
    }
   ],
   "source": [
    "html_table = \"<table><tr><th>Srno</th><th>Recipe Name</th><th>Translated Recipe Name</th><th>Ingredients</th><th>Translated Ingredients</th><th>Prep Time (mins)</th><th>Cook Time (mins)</th><th>Total Time (mins)</th><th>Servings</th><th>Cuisine</th><th>Course</th><th>Diet</th><th>Instructions</th><th>Translated Instructions</th><th>URL</th></tr>\"\n",
    "\n",
    "for index in recommendations.index:\n",
    "    recipe_info = df.loc[index]\n",
    "    html_table += f\"<tr><td>{recipe_info['Srno']}</td><td>{recipe_info['RecipeName']}</td><td>{recipe_info['TranslatedRecipeName']}</td><td>{recipe_info['Ingredients']}</td><td>{recipe_info['TranslatedIngredients']}</td><td>{recipe_info['PrepTimeInMins']}</td><td>{recipe_info['CookTimeInMins']}</td><td>{recipe_info['TotalTimeInMins']}</td><td>{recipe_info['Servings']}</td><td>{recipe_info['Cuisine']}</td><td>{recipe_info['Course']}</td><td>{recipe_info['Diet']}</td><td>{recipe_info['Instructions']}</td><td>{recipe_info['TranslatedInstructions']}</td><td>{recipe_info['URL']}</td></tr>\"\n",
    "\n",
    "html_table += \"</table>\"\n",
    "\n",
    "HTML(html_table)"
   ]
  },
  {
   "cell_type": "code",
   "execution_count": 61,
   "metadata": {},
   "outputs": [
    {
     "data": {
      "text/html": [
       "<table><tr><th>Srno</th><th>Recipe Name</th><th>Translated Recipe Name</th><th>Ingredients</th><th>Translated Ingredients</th><th>Prep Time (mins)</th><th>Cook Time (mins)</th><th>Total Time (mins)</th><th>Servings</th><th>Cuisine</th><th>Course</th><th>Diet</th><th>Instructions</th><th>Translated Instructions</th><th>URL</th></tr><tr><td>2964</td><td>Broccoli & Vegetable Coconut Curry Recipe</td><td>Broccoli & Vegetable Coconut Curry Recipe</td><td>400 grams Broccoli - cut into florets,1 Red Bell pepper (Capsicum) - thinly sliced,1 Onion - chopped,4 Dry Red Chilli,1 teaspoon Methi Seeds (Fenugreek Seeds),1 tablespoon Coriander (Dhania) Seeds,1 teaspoon Cumin seeds (Jeera),1 tablespoon Whole Black Peppercorns,Tamarind - lemon size,2 cups Fresh coconut - grated,3 cloves Garlic,1 teaspoon Turmeric powder (Haldi),Salt - to taste,Sunflower Oil - for cooking</td><td>400 grams Broccoli - cut into florets,1 Red Bell pepper (Capsicum) - thinly sliced,1 Onion - chopped,4 Dry Red Chilli,1 teaspoon Methi Seeds (Fenugreek Seeds),1 tablespoon Coriander (Dhania) Seeds,1 teaspoon Cumin seeds (Jeera),1 tablespoon Whole Black Peppercorns,Tamarind - lemon size,2 cups Fresh coconut - grated,3 cloves Garlic,1 teaspoon Turmeric powder (Haldi),Salt - to taste,Sunflower Oil - for cooking</td><td>20</td><td>40</td><td>60</td><td>4</td><td>Mangalorean</td><td>Side Dish</td><td>Diabetic Friendly</td><td>To begin making the Broccoli & Vegetable Coconut Curry Recipe, we will first make the Broccoli Curry Masala. In a small pan; roast the dry red chillies, fenugreek, coriander, cumin and black pepper until you can smell the roasted aromas. Add these to a small blender jar, along with the coconut, tamarind and turmeric powder. Grind the spices adding very little water to make a smooth curry paste. The curry paste is now ready. Keep aside.In the next step; heat a teaspoon of oil in a pan; add the chopped onions, broccoli and red bell peppers and saute for a couple of minutes until the onions are soft and tender. Add the curry paste and saute for a couple of more minutes. Stir in salt and add about 1-1/2 to 2 cups of water. You essentially want a thick gravy for the Broccoli Curry; hence add water accordingly. Give all the ingredients a good stir. Check the salt levels and adjust to suit your taste. Give the mixture a quick boil only when you are ready to serve. Serve the Broccoli & Vegetable Coconut Curry, along with Neer Dosa or Kerala (Lachha) Paratha or even plain steamed rice.\n",
       "</td><td>To begin making the Broccoli & Vegetable Coconut Curry Recipe, we will first make the Broccoli Curry Masala. In a small pan; roast the dry red chillies, fenugreek, coriander, cumin and black pepper until you can smell the roasted aromas. Add these to a small blender jar, along with the coconut, tamarind and turmeric powder. Grind the spices adding very little water to make a smooth curry paste. The curry paste is now ready. Keep aside.In the next step; heat a teaspoon of oil in a pan; add the chopped onions, broccoli and red bell peppers and saute for a couple of minutes until the onions are soft and tender. Add the curry paste and saute for a couple of more minutes. Stir in salt and add about 1-1/2 to 2 cups of water. You essentially want a thick gravy for the Broccoli Curry; hence add water accordingly. Give all the ingredients a good stir. Check the salt levels and adjust to suit your taste. Give the mixture a quick boil only when you are ready to serve. Serve the Broccoli & Vegetable Coconut Curry, along with Neer Dosa or Kerala (Lachha) Paratha or even plain steamed rice.</td><td>https://www.archanaskitchen.com/broccoli-and-vegetable-curry-recipe</td></tr><tr><td>7803</td><td>Baked Cheesy Broccoli Pasta Recipe</td><td>Baked Cheesy Broccoli Pasta Recipe</td><td>350 grams Penne pasta,2 cups Broccoli - florets,6 cloves Garlic - finely chopped,1/2 teaspoon Black pepper powder,2 teaspoons Italian seasoning,1 teaspoon Red Chilli flakes,1/4 cup Mozzarella cheese - grated,1 tablespoon Extra Virgin Olive Oil,Salt - to taste,2 tablespoons Whole Wheat Flour,1 cup Milk,1/4 cup Fresh cream,Salt and Pepper - to taste,1/4 teaspoon Nutmeg</td><td>350 grams Penne pasta,2 cups Broccoli - florets,6 cloves Garlic - finely chopped,1/2 teaspoon Black pepper powder,2 teaspoons Italian seasoning,1 teaspoon Red Chilli flakes,1/4 cup Mozzarella cheese - grated,1 tablespoon Extra Virgin Olive Oil,Salt - to taste,2 tablespoons Whole Wheat Flour,1 cup Milk,1/4 cup Fresh cream,Salt and Pepper - to taste,1/4 teaspoon Nutmeg</td><td>10</td><td>30</td><td>40</td><td>4</td><td>Italian Recipes</td><td>Dinner</td><td>High Protein Vegetarian</td><td>To begin making the Broccoli Cheesy Pesto Pasta Recipe, first get all the ingredients ready.To Cook the Pasta Keep 500ml of water in a stock pot and allow it to boil, add in pasta along with a teaspoon of salt and allow it to boil and cook for at least 10-15 minutes until the pasta is cooked till al dente. Once the pasta is cooked,drain the water and rinse it under cold water to prevent it from getting overcooked in the heat. Drizzle some olive oil over the pasta and toss it well and keep the cooked pasta aside.To Make the Bechamel Sauce Whisk together the flours, salt, pepper, nutmeg and the milk until all the flour is well dissolved into the milk. Pour the white sauce mixture into a saucepan and begin cooking the Bechamel sauce until it thickens.As the White Sauce pasta mixture-Bechamel Sauce begins to thicken, add in the cream and continue to stir well until there are no lumps and the mixture is cooked through completely.Once the sauce is cooked and you are happy with the consistency, switch off the flame. To Make the Baked Cheesy Broccoli Pasta Preheat the oven to 180 degree celsius for 10 minutes and keep it ready. Heat a teaspoon of oil in a wok, add chopped garlic and saute till it softens. Add in the broccoli florets, teaspoon of salt, and roast them until cooked through. Sprinkle the italian seasonings, red chilli flakes and pepper powder and give it a stir. Add in your White sauce-Bechamel sauce along with pasta and mix well until the pasta is well coated.Check the salt and adjust to suit your taste.Turn off the heat and transfer the Broccoli Pasta to a ceramic baked pan, sprinkle with mozzarella cheese on top and bake in the oven till the cheese melts. Serve the Broccoli Cheesy Pesto Pasta Recipe along with a Watermelon Panzanella Salad and glass of wine for a perfect weeknight dinner with your partner or even pack into a lunchbox for kids.\n",
       "</td><td>To begin making the Broccoli Cheesy Pesto Pasta Recipe, first get all the ingredients ready.To Cook the Pasta Keep 500ml of water in a stock pot and allow it to boil, add in pasta along with a teaspoon of salt and allow it to boil and cook for at least 10-15 minutes until the pasta is cooked till al dente. Once the pasta is cooked,drain the water and rinse it under cold water to prevent it from getting overcooked in the heat. Drizzle some olive oil over the pasta and toss it well and keep the cooked pasta aside.To Make the Bechamel Sauce Whisk together the flours, salt, pepper, nutmeg and the milk until all the flour is well dissolved into the milk. Pour the white sauce mixture into a saucepan and begin cooking the Bechamel sauce until it thickens.As the White Sauce pasta mixture-Bechamel Sauce begins to thicken, add in the cream and continue to stir well until there are no lumps and the mixture is cooked through completely.Once the sauce is cooked and you are happy with the consistency, switch off the flame. To Make the Baked Cheesy Broccoli Pasta Preheat the oven to 180 degree celsius for 10 minutes and keep it ready. Heat a teaspoon of oil in a wok, add chopped garlic and saute till it softens. Add in the broccoli florets, teaspoon of salt, and roast them until cooked through. Sprinkle the italian seasonings, red chilli flakes and pepper powder and give it a stir. Add in your White sauce-Bechamel sauce along with pasta and mix well until the pasta is well coated.Check the salt and adjust to suit your taste.Turn off the heat and transfer the Broccoli Pasta to a ceramic baked pan, sprinkle with mozzarella cheese on top and bake in the oven till the cheese melts. Serve the Broccoli Cheesy Pesto Pasta Recipe along with a Watermelon Panzanella Salad and glass of wine for a perfect weeknight dinner with your partner or even pack into a lunchbox for kids.</td><td>http://www.archanaskitchen.com/broccoli-pesto-pasta-recipe</td></tr><tr><td>155</td><td>कटाची आमटी रेसिपी - Katachi Amti (Recipe In Hindi)</td><td> Katachi Amti (Recipe In Hindi)</td><td>2 कप दाल का पानी - चना दाल का पानी,1 कप पानी - प्रयोग अनुसार,3 लॉन्ग,2 पूरी काली मिर्च,1 छोटा चमच्च जीरा,1 छोटा चमच्च राइ,1 तेज पत्ता,5 कढ़ी पत्ता - तोड़ ले,1 छोटा चमच्च गुड़ - कस ले,1 छोटा चमच्च इमली का पेस्ट - अपने अनुसार ज्यादा कम कर ले,1/2 छोटा चमच्च गोडा मसाला,1 बड़ा चमच्च तेल,हरा धनिया - थोड़ा,नमक - to taste</td><td>2 cups lentil water - chana lentil water, 1 cup water - as per the experiment, 3 long, 2 whole black peppers, 1 teaspoon cumin, 1 teaspoon mustard, 1 bay leaf, 5 curry leaves - break, 1 teaspoon Jaggery - grated, 1 teaspoon tamarind paste - reduce as much as you like, 1/2 teaspoon goda masala, 1 tablespoon oil, coriander leaves - little, salt - to taste</td><td>10</td><td>15</td><td>25</td><td>4</td><td>Maharashtrian Recipes</td><td>Lunch</td><td>Vegetarian</td><td>कटाची आमटी बनाने के लिए सबसे पहले पानी को दाल के पानी में मिला ले. अलग से रख दे. अब एक सॉसपैन में तेल गरम करें। इसमें राइ डाले और 10 सेकण्ड्स तक पकने दे. 10 सेकण्ड्स के बाद ,इसमें लॉन्ग, तेज पत्ता और काली मिर्च डाले। 20 सेकण्ड्स तक पकाने के बाद इसमें जीरा, कढ़ी पत्ता और हरा धनिया डाले। 30 सेकण्ड्स बाद, दाल का पानी, गुड़, इमली  का पेस्ट, गोडा मसाला और नमक डाले। उबाला आने तक पकाए। उबाला आने के बाद गैस बंद करें और परोसे। कटाची आमटी को पुरन पोली के साथ त्यौहार के दिनों में परोसे।\n",
       "</td><td>To make kachchi mango, first mix the water in the lentils. Keep it aside. Now heat the oil in a saucepan. Add mustard seeds and let it cook for 10 seconds. After 10 seconds, add long, bay leaves and black pepper. After cooking for 20 seconds, add cumin seeds, curry leaves and coriander leaves. After 30 seconds, add lentil water, jaggery, tamarind paste, goda masala and salt. Cook until it boils. Turn off the gas after boiling and serve. Serve Katachi Amati with Puran Poli on festival days.</td><td>https://www.archanaskitchen.com/katachi-amti-recipe-spicy-accompaniment-to-maharashtrian-puran-poli-in-hindi</td></tr><tr><td>3190</td><td>Mushroom Masala Cheese Omelette Recipe</td><td>Mushroom Masala Cheese Omelette Recipe</td><td>2 Whole Eggs,10 Button mushrooms - roughly chopped,1/2 Onion - finely chopped,1 Green Chilli - finely chopped,1/2 Tomato - finely chopped,4 Black olives - finely chopped,1 tablespoon Cheese - grated,Coriander (Dhania) Leaves - a small bunch chopped,Salt and Pepper - to taste,1 teaspoon Sunflower Oil - for cooking</td><td>2 Whole Eggs,10 Button mushrooms - roughly chopped,1/2 Onion - finely chopped,1 Green Chilli - finely chopped,1/2 Tomato - finely chopped,4 Black olives - finely chopped,1 tablespoon Cheese - grated,Coriander (Dhania) Leaves - a small bunch chopped,Salt and Pepper - to taste,1 teaspoon Sunflower Oil - for cooking</td><td>10</td><td>10</td><td>20</td><td>1</td><td>Continental</td><td>Indian Breakfast</td><td>High Protein Non Vegetarian</td><td>To begin making Mushroom Masala Omelette Recipe, first prep all the ingredients and keep them ready.In a mixing bowl, break the eggs and whisk them up well along with salt, pepper, olives, cheese and tomatoes. Keep this aside.Heat oil in an omelette pan over medium heat; add the mushrooms, onions and green chillies and saute until the onions and mushrooms are slightly roasted. Once roasted, add the egg omelette cheese mixture into the roasted onion and mushrooms.Swirl the pan to spread the omelette mixture and gently combine the onions and mushrooms and spread it around.Keep the heat on low and cook the omelette until you notice the top is getting steamed and cooked. You can also optionally cover the pan and cook the omelette faster.Once the top is cooked, fold the omelette into half and cook for another few minutes is required and turn off the heat. You can also optionally flip the omelette and cook it on both sides.Serve the Mushroom Masala Omelette along with a Toast, fruits and a cup of Masala Chai or Filter Coffee.\n",
       "</td><td>To begin making Mushroom Masala Omelette Recipe, first prep all the ingredients and keep them ready.In a mixing bowl, break the eggs and whisk them up well along with salt, pepper, olives, cheese and tomatoes. Keep this aside.Heat oil in an omelette pan over medium heat; add the mushrooms, onions and green chillies and saute until the onions and mushrooms are slightly roasted. Once roasted, add the egg omelette cheese mixture into the roasted onion and mushrooms.Swirl the pan to spread the omelette mixture and gently combine the onions and mushrooms and spread it around.Keep the heat on low and cook the omelette until you notice the top is getting steamed and cooked. You can also optionally cover the pan and cook the omelette faster.Once the top is cooked, fold the omelette into half and cook for another few minutes is required and turn off the heat. You can also optionally flip the omelette and cook it on both sides.Serve the Mushroom Masala Omelette along with a Toast, fruits and a cup of Masala Chai or Filter Coffee.\n",
       "</td><td>https://www.archanaskitchen.com/mushroom-masala-cheese-omelette-recipe</td></tr><tr><td>639</td><td>Cheesy Vegetarian Pizza Muffins Recipe</td><td>Cheesy Vegetarian Pizza Muffins Recipe</td><td>1-1/2 cups All Purpose Flour (Maida),1-1/2 teaspoons Baking powder,1/2 teaspoon Salt,1/2 Green Bell Pepper (Capsicum) - finely chopped,1 Whole Egg,1/4 cup Extra Virgin Olive Oil,1/2 cup Homemade Pizza And Pasta Sauce,1 teaspoon Dried oregano,1 sprig Basil leaves - finely chopped,1/2 cup Mozzarella cheese</td><td>1-1/2 cups All Purpose Flour (Maida),1-1/2 teaspoons Baking powder,1/2 teaspoon Salt,1/2 Green Bell Pepper (Capsicum) - finely chopped,1 Whole Egg,1/4 cup Extra Virgin Olive Oil,1/2 cup Homemade Pizza And Pasta Sauce,1 teaspoon Dried oregano,1 sprig Basil leaves - finely chopped,1/2 cup Mozzarella cheese</td><td>10</td><td>45</td><td>55</td><td>2</td><td>Fusion</td><td>Appetizer</td><td>Vegetarian</td><td>To begin making the Cheesy Vegetarian Pizza Muffins recipe, preheat the oven to 200 C. Line the muffin pans with cupcake liners and keep aside.Sift the flour, salt and baking powder together in a large mixing bowl and set aside.Gradually add the remaining ingredients that includes green bell pepper, egg, olive oil, pizza sauce, oregano and basil leaves except the cheese into the flour mixture and using a hand mixer, combine all the ingredients until well combined.Ensure not to over beat the pizza muffin batter. Spoon the muffins into the muffin cavities until 3/4th full. Place the pizza muffins in the oven to make and bake for 20 minutes.When the muffins are almost done, remove from the oven and sprinkle the cheese on the top and put it back into the oven, until the cheese melts.Once the pizza muffins are completely done, remove from the oven and allow it to cool for 15 minutes before you are ready to serve.The Cheesy Pizza Muffins make a great snack for kids that can be packed into their lunchbox or even made for birthday parties.Serve the Cheesy Vegetarian Pizza Muffins with Masala Chai and Linzer cookies for your tea time break or evening snacks.\n",
       "</td><td>To begin making the Cheesy Vegetarian Pizza Muffins recipe, preheat the oven to 200 C. Line the muffin pans with cupcake liners and keep aside.Sift the flour, salt and baking powder together in a large mixing bowl and set aside.Gradually add the remaining ingredients that includes green bell pepper, egg, olive oil, pizza sauce, oregano and basil leaves except the cheese into the flour mixture and using a hand mixer, combine all the ingredients until well combined.Ensure not to over beat the pizza muffin batter. Spoon the muffins into the muffin cavities until 3/4th full. Place the pizza muffins in the oven to make and bake for 20 minutes.When the muffins are almost done, remove from the oven and sprinkle the cheese on the top and put it back into the oven, until the cheese melts.Once the pizza muffins are completely done, remove from the oven and allow it to cool for 15 minutes before you are ready to serve.The Cheesy Pizza Muffins make a great snack for kids that can be packed into their lunchbox or even made for birthday parties.Serve the Cheesy Vegetarian Pizza Muffins with Masala Chai and Linzer cookies for your tea time break or evening snacks.</td><td>http://www.archanaskitchen.com/cheesy-vegetarian-pizza-muffins-recipe</td></tr></table>"
      ],
      "text/plain": [
       "<IPython.core.display.HTML object>"
      ]
     },
     "execution_count": 61,
     "metadata": {},
     "output_type": "execute_result"
    }
   ],
   "source": [
    "user_ingredients = [\"onion\", \"tomato\", \"garlic\", \"ginger\"]\n",
    "\n",
    "user_prep_time = 30  \n",
    "user_cook_time = 45  \n",
    "\n",
    "recommendations = recommend_recipes(user_ingredients, user_prep_time, user_cook_time)\n",
    "\n",
    "html_table = \"<table><tr><th>Srno</th><th>Recipe Name</th><th>Translated Recipe Name</th><th>Ingredients</th><th>Translated Ingredients</th><th>Prep Time (mins)</th><th>Cook Time (mins)</th><th>Total Time (mins)</th><th>Servings</th><th>Cuisine</th><th>Course</th><th>Diet</th><th>Instructions</th><th>Translated Instructions</th><th>URL</th></tr>\"\n",
    "\n",
    "for index in recommendations.index:\n",
    "    recipe_info = df.loc[index]\n",
    "    html_table += f\"<tr><td>{recipe_info['Srno']}</td><td>{recipe_info['RecipeName']}</td><td>{recipe_info['TranslatedRecipeName']}</td><td>{recipe_info['Ingredients']}</td><td>{recipe_info['TranslatedIngredients']}</td><td>{recipe_info['PrepTimeInMins']}</td><td>{recipe_info['CookTimeInMins']}</td><td>{recipe_info['TotalTimeInMins']}</td><td>{recipe_info['Servings']}</td><td>{recipe_info['Cuisine']}</td><td>{recipe_info['Course']}</td><td>{recipe_info['Diet']}</td><td>{recipe_info['Instructions']}</td><td>{recipe_info['TranslatedInstructions']}</td><td>{recipe_info['URL']}</td></tr>\"\n",
    "\n",
    "html_table += \"</table>\"\n",
    "\n",
    "HTML(html_table)"
   ]
  },
  {
   "cell_type": "code",
   "execution_count": null,
   "metadata": {},
   "outputs": [],
   "source": []
  }
 ],
 "metadata": {
  "kernelspec": {
   "display_name": "base",
   "language": "python",
   "name": "python3"
  },
  "language_info": {
   "codemirror_mode": {
    "name": "ipython",
    "version": 3
   },
   "file_extension": ".py",
   "mimetype": "text/x-python",
   "name": "python",
   "nbconvert_exporter": "python",
   "pygments_lexer": "ipython3",
   "version": "3.11.5"
  }
 },
 "nbformat": 4,
 "nbformat_minor": 2
}
